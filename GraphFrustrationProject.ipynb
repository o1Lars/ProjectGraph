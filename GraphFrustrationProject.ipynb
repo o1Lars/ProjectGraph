{
 "cells": [
  {
   "cell_type": "code",
   "execution_count": 1,
   "metadata": {},
   "outputs": [],
   "source": [
    "import Configuration\n",
    "import Graph"
   ]
  },
  {
   "cell_type": "code",
   "execution_count": null,
   "metadata": {},
   "outputs": [],
   "source": [
    "# User must set input below, and then run entire notebook!\n",
    "# Set path to read graph from\n",
    "path_to_text_file = \n",
    "# Pick colouring pattern by writing its index, see options below:\n",
    "# 1. All 0\n",
    "# 2. All 1\n",
    "# 3. Random \n",
    "initial_colouring_pattern = \n",
    "# Pick an update Procedure by writing its index, see options below:\n",
    "# 1. Ordered\n",
    "# 2. Maxviolation\n",
    "# 3. MonteCarlo\n",
    "updating_procedure = \n",
    "# Set number of iterations \n",
    "number_of_iterations = "
   ]
  },
  {
   "cell_type": "code",
   "execution_count": null,
   "metadata": {},
   "outputs": [],
   "source": [
    "tuples_of_edges = Configuration.Read_text_file_into_tuples(path_to_text_file)\n",
    "if (Configuration.Verify_that_graph_is_connected(tuple_of_edges) == True):\n",
    "\tcoloured_graph = Configuration.Colour_touple_of_edges(tuple_of_edges, initial_colouring_pattern)\n",
    "\tupdated_graph, update_history = Graph.UpdateGraph(coloured_graph, updating_procedure, number_of_iterations)\n",
    "else:\n",
    "\tprint(\"Error - Graph was not connected, ending program\")"
   ]
  },
  {
   "cell_type": "code",
   "execution_count": null,
   "metadata": {},
   "outputs": [],
   "source": [
    "# visualize initial graph\n",
    "Graph.Display(coloured_graph)"
   ]
  },
  {
   "cell_type": "code",
   "execution_count": null,
   "metadata": {},
   "outputs": [],
   "source": [
    "# could display graph, in case they want you to...\n",
    "Graph.Display(updated_graph)"
   ]
  },
  {
   "cell_type": "code",
   "execution_count": null,
   "metadata": {},
   "outputs": [],
   "source": [
    "#Simulates all three updating procedures, and displays graph\n",
    "Graph.Simulate_and_display(coloured_graph, number_of_iterations)"
   ]
  }
 ],
 "metadata": {
  "kernelspec": {
   "display_name": "Python 3",
   "language": "python",
   "name": "python3"
  },
  "language_info": {
   "codemirror_mode": {
    "name": "ipython",
    "version": 3
   },
   "file_extension": ".py",
   "mimetype": "text/x-python",
   "name": "python",
   "nbconvert_exporter": "python",
   "pygments_lexer": "ipython3",
   "version": "3.11.6"
  }
 },
 "nbformat": 4,
 "nbformat_minor": 2
}
